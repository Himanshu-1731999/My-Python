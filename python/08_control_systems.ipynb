{
 "cells": [
  {
   "cell_type": "markdown",
   "metadata": {},
   "source": [
    "Conditions\n",
    "----\n",
    "if , elif , else"
   ]
  },
  {
   "cell_type": "code",
   "execution_count": 7,
   "metadata": {},
   "outputs": [],
   "source": [
    "a=81"
   ]
  },
  {
   "cell_type": "code",
   "execution_count": 8,
   "metadata": {},
   "outputs": [
    {
     "name": "stdout",
     "output_type": "stream",
     "text": [
      "i dont know\n"
     ]
    }
   ],
   "source": [
    "if a==80:\n",
    "    print('1st division')\n",
    "\n",
    "else:\n",
    "    print('i dont know')"
   ]
  },
  {
   "cell_type": "code",
   "execution_count": 16,
   "metadata": {},
   "outputs": [],
   "source": [
    "a=31"
   ]
  },
  {
   "cell_type": "code",
   "execution_count": 17,
   "metadata": {},
   "outputs": [
    {
     "name": "stdout",
     "output_type": "stream",
     "text": [
      "fail\n"
     ]
    }
   ],
   "source": [
    "if a==33:\n",
    "    print('passed')\n",
    "else:\n",
    "    print('fail')"
   ]
  },
  {
   "cell_type": "markdown",
   "metadata": {},
   "source": [
    "#example\n",
    "---"
   ]
  },
  {
   "cell_type": "code",
   "execution_count": 29,
   "metadata": {},
   "outputs": [],
   "source": [
    "a=32"
   ]
  },
  {
   "cell_type": "code",
   "execution_count": 17,
   "metadata": {},
   "outputs": [
    {
     "name": "stdout",
     "output_type": "stream",
     "text": [
      "fail\n"
     ]
    }
   ],
   "source": [
    "a = int(input('chek your result'))\n",
    "if a>=85:\n",
    "    print('1st division')\n",
    "elif a>=60:\n",
    "    print('2nd division')\n",
    "elif a>=33:\n",
    "    print('3rd')\n",
    "else:\n",
    "    print('fail')"
   ]
  },
  {
   "cell_type": "markdown",
   "metadata": {},
   "source": [
    "#example\n",
    "----"
   ]
  },
  {
   "cell_type": "code",
   "execution_count": 47,
   "metadata": {},
   "outputs": [
    {
     "name": "stdout",
     "output_type": "stream",
     "text": [
      "यह एक नेगेटिव नंबर है।\n"
     ]
    }
   ],
   "source": [
    "num = int(input(\"कोई नंबर दर्ज करें: \"))\n",
    "if num > 0:\n",
    "    print(\"यह एक पॉज़िटिव नंबर है।\")\n",
    "elif num < 0:\n",
    "    print(\"यह एक नेगेटिव नंबर है।\")\n",
    "else:\n",
    "    print(\"यह ज़ीरो है।\")"
   ]
  },
  {
   "cell_type": "code",
   "execution_count": 48,
   "metadata": {},
   "outputs": [
    {
     "name": "stdout",
     "output_type": "stream",
     "text": [
      "यह एक सम संख्या है।\n"
     ]
    }
   ],
   "source": [
    "num = int(input(\"कोई नंबर दर्ज करें: \"))\n",
    "if num % 2 == 0:\n",
    "    print(\"यह एक सम संख्या है।\")\n",
    "else:\n",
    "    print(\"यह एक विषम संख्या है।\")\n"
   ]
  },
  {
   "cell_type": "markdown",
   "metadata": {},
   "source": [
    "नीचे 10 सवाल दिए गए हैं जो if-else स्टेटमेंट पर आधारित हैं।  \n",
    "\n",
    "### *1. नंबर पॉज़िटिव, नेगेटिव या ज़ीरो*  \n",
    "यूज़र से एक नंबर इनपुट लो और बताओ कि वो पॉज़िटिव, नेगेटिव या ज़ीरो है।  \n",
    "\n",
    "python\n",
    "num = int(input(\"कोई नंबर दर्ज करें: \"))\n",
    "if num > 0:\n",
    "    print(\"यह एक पॉज़िटिव नंबर है।\")\n",
    "elif num < 0:\n",
    "    print(\"यह एक नेगेटिव नंबर है।\")\n",
    "else:\n",
    "    print(\"यह ज़ीरो है।\")\n",
    "\n",
    "\n",
    "---  \n",
    "\n",
    "### *2. सम (Even) या विषम (Odd) नंबर*  \n",
    "यूज़र से एक नंबर लो और बताओ कि वो सम (even) है या विषम (odd)।  \n",
    "\n",
    "python\n",
    "num = int(input(\"कोई नंबर दर्ज करें: \"))\n",
    "if num % 2 == 0:\n",
    "    print(\"यह एक सम संख्या है।\")\n",
    "else:\n",
    "    print(\"यह एक विषम संख्या है।\")\n",
    "\n",
    "\n",
    "---  \n",
    "\n",
    "### *3. वोटिंग के लिए एलिजिबल (Eligible) या नहीं*  \n",
    "यूज़र की उम्र लो और बताओ कि वो वोट देने के लिए एलिजिबल है या नहीं (18 साल से ऊपर होना चाहिए)।  \n",
    "\n",
    "python\n",
    "age = int(input(\"अपनी उम्र दर्ज करें: \"))\n",
    "if age >= 18:\n",
    "    print(\"आप वोट देने के लिए योग्य हैं।\")\n",
    "else:\n",
    "    print(\"आप वोट देने के लिए योग्य नहीं हैं।\")\n",
    "\n",
    "\n",
    "---  \n",
    "\n",
    "### *4. किसी संख्या का 5 से विभाज्य (Divisible by 5) या नहीं*  \n",
    "यूज़र से नंबर लो और बताओ कि क्या वो 5 से विभाज्य (divisible) है या नहीं।  \n",
    "\n",
    "python\n",
    "num = int(input(\"कोई नंबर दर्ज करें: \"))\n",
    "if num % 5 == 0:\n",
    "    print(\"संख्या 5 से विभाज्य है।\")\n",
    "else:\n",
    "    print(\"संख्या 5 से विभाज्य नहीं है।\")\n",
    "\n",
    "\n",
    "---  \n",
    "\n",
    "### *5. तीन संख्याओं में से सबसे बड़ी संख्या बताओ*  \n",
    "यूज़र से तीन संख्याएँ लो और सबसे बड़ी संख्या बताओ।  \n",
    "\n",
    "python\n",
    "a = int(input(\"पहली संख्या दर्ज करें: \"))\n",
    "b = int(input(\"दूसरी संख्या दर्ज करें: \"))\n",
    "c = int(input(\"तीसरी संख्या दर्ज करें: \"))\n",
    "\n",
    "if a >= b and a >= c:\n",
    "    print(\"सबसे बड़ी संख्या:\", a)\n",
    "elif b >= a and b >= c:\n",
    "    print(\"सबसे बड़ी संख्या:\", b)\n",
    "else:\n",
    "    print(\"सबसे बड़ी संख्या:\", c)\n",
    "\n",
    "\n",
    "---  \n",
    "\n",
    "### *6. पास या फेल बताने वाला प्रोग्राम*  \n",
    "यूज़र से अंक (marks) लो और बताओ कि वो पास हुआ या फेल (पासिंग मार्क्स 33% होने चाहिए)।  \n",
    "\n",
    "python\n",
    "marks = int(input(\"अपने अंक दर्ज करें: \"))\n",
    "if marks >= 33:\n",
    "    print(\"आप पास हो गए।\")\n",
    "else:\n",
    "    print(\"आप फेल हो गए।\")\n",
    "\n",
    "\n",
    "---  \n",
    "\n",
    "### *7. किसी अक्षर (Character) का वॉवल (Vowel) या कॉन्सोनेंट (Consonant) बताओ*  \n",
    "यूज़र से एक अक्षर लो और बताओ कि वो वॉवल है या कॉन्सोनेंट।  \n",
    "\n",
    "python\n",
    "ch = input(\"कोई अक्षर दर्ज करें: \").lower()\n",
    "if ch in 'aeiou':\n",
    "    print(\"यह एक स्वर (vowel) है।\")\n",
    "else:\n",
    "    print(\"यह एक व्यंजन (consonant) है।\")\n",
    "\n",
    "\n",
    "---  \n",
    "\n",
    "### *8. नंबर पॉज़िटिव और सम है या नहीं*  \n",
    "यूज़र से नंबर लो और बताओ कि क्या वो पॉज़िटिव और सम (even) दोनों है या नहीं।  \n",
    "\n",
    "python\n",
    "num = int(input(\"कोई नंबर दर्ज करें: \"))\n",
    "if num > 0 and num % 2 == 0:\n",
    "    print(\"संख्या पॉज़िटिव और सम (even) है।\")\n",
    "else:\n",
    "    print(\"संख्या पॉज़िटिव और सम नहीं है।\")\n",
    "\n",
    "\n",
    "---  \n",
    "\n",
    "### *9. स्कूली ग्रेड कैलकुलेशन*  \n",
    "यूज़र से अंक लो और बताओ कि वो किस ग्रेड में आएगा।  \n",
    "\n",
    "- 90-100: A ग्रेड  \n",
    "- 80-89: B ग्रेड  \n",
    "- 70-79: C ग्रेड  \n",
    "- 60-69: D ग्रेड  \n",
    "- 33-59: E ग्रेड  \n",
    "- 33 से कम: फेल  \n",
    "\n",
    "python\n",
    "marks = int(input(\"अपने अंक दर्ज करें: \"))\n",
    "if marks >= 90:\n",
    "    print(\"आपका ग्रेड: A\")\n",
    "elif marks >= 80:\n",
    "    print(\"आपका ग्रेड: B\")\n",
    "elif marks >= 70:\n",
    "    print(\"आपका ग्रेड: C\")\n",
    "elif marks >= 60:\n",
    "    print(\"आपका ग्रेड: D\")\n",
    "elif marks >= 33:\n",
    "    print(\"आपका ग्रेड: E\")\n",
    "else:\n",
    "    print(\"आप फेल हो गए।\")\n",
    "\n",
    "\n",
    "---  \n",
    "\n",
    "### *10. साल लीप ईयर (Leap Year) है या नहीं*  \n",
    "यूज़र से एक साल लो और बताओ कि वो लीप ईयर (Leap Year) है या नहीं।  \n",
    "\n",
    "python\n",
    "year = int(input(\"कोई साल दर्ज करें: \"))\n",
    "if (year % 4 == 0 and year % 100 != 0) or (year % 400 == 0):\n",
    "    print(f\"{year} एक लीप ईयर है।\")\n",
    "else:\n",
    "    print(f\"{year} एक साधारण साल है।\")\n",
    "\n",
    "\n",
    "---  \n",
    "\n",
    "ये सभी प्रोग्राम if-else पर आधारित हैं और आपके लॉजिक डेवलपमेंट में मदद करेंगे। 🚀"
   ]
  },
  {
   "cell_type": "code",
   "execution_count": 49,
   "metadata": {},
   "outputs": [
    {
     "name": "stdout",
     "output_type": "stream",
     "text": [
      "आप वोट देने के लिए योग्य हैं।\n"
     ]
    }
   ],
   "source": [
    "age = int(input(\"अपनी उम्र दर्ज करें: \"))\n",
    "if age >= 18:\n",
    "    print(\"आप वोट देने के लिए योग्य हैं।\")\n",
    "else:\n",
    "    print(\"आप वोट देने के लिए योग्य नहीं हैं।\")"
   ]
  },
  {
   "cell_type": "code",
   "execution_count": 51,
   "metadata": {},
   "outputs": [
    {
     "name": "stdout",
     "output_type": "stream",
     "text": [
      "no\n"
     ]
    }
   ],
   "source": [
    "num=int(input('enter num'))\n",
    "if num%5==0:\n",
    "    print('yes')\n",
    "else:\n",
    "    print('no')"
   ]
  },
  {
   "cell_type": "code",
   "execution_count": 54,
   "metadata": {},
   "outputs": [
    {
     "name": "stdout",
     "output_type": "stream",
     "text": [
      "fail\n"
     ]
    }
   ],
   "source": [
    "marks=int(input('enter marks'))\n",
    "if marks>=33:\n",
    "    print('pass')\n",
    "else:\n",
    "    print('fail')"
   ]
  },
  {
   "cell_type": "code",
   "execution_count": 62,
   "metadata": {},
   "outputs": [
    {
     "name": "stdout",
     "output_type": "stream",
     "text": [
      "vowel\n"
     ]
    }
   ],
   "source": [
    "ch=input('word')\n",
    "if ch in 'aeiou':\n",
    "    print('vowel')\n",
    "else:\n",
    "    print('consonant')"
   ]
  },
  {
   "cell_type": "code",
   "execution_count": 1,
   "metadata": {},
   "outputs": [
    {
     "ename": "SyntaxError",
     "evalue": "illegal target for annotation (3178911723.py, line 1)",
     "output_type": "error",
     "traceback": [
      "\u001b[1;36m  Cell \u001b[1;32mIn[1], line 1\u001b[1;36m\u001b[0m\n\u001b[1;33m    - 90-100: A ग्रेड\u001b[0m\n\u001b[1;37m    ^\u001b[0m\n\u001b[1;31mSyntaxError\u001b[0m\u001b[1;31m:\u001b[0m illegal target for annotation\n"
     ]
    }
   ],
   "source": [
    "- 90-100: A ग्रेड  \n",
    "- 80-89: B ग्रेड  \n",
    "- 70-79: C ग्रेड  \n",
    "- 60-69: D ग्रेड  \n",
    "- 33-59: E ग्रेड  \n",
    "- 33 से कम: फेल  "
   ]
  },
  {
   "cell_type": "code",
   "execution_count": 9,
   "metadata": {},
   "outputs": [
    {
     "name": "stdout",
     "output_type": "stream",
     "text": [
      "E\n"
     ]
    }
   ],
   "source": [
    "marks=int(input('enter your marks'))\n",
    "if marks>90:\n",
    "    print('A')\n",
    "elif marks>=80:\n",
    "    print('B')\n",
    "elif marks>=70:\n",
    "    print('C')\n",
    "elif marks>=60:\n",
    "    print('D')\n",
    "elif marks>=33:\n",
    "    print('E')\n",
    "else:\n",
    "    print('fail')\n",
    "\n"
   ]
  },
  {
   "cell_type": "code",
   "execution_count": null,
   "metadata": {},
   "outputs": [],
   "source": []
  }
 ],
 "metadata": {
  "kernelspec": {
   "display_name": "myenv",
   "language": "python",
   "name": "python3"
  },
  "language_info": {
   "codemirror_mode": {
    "name": "ipython",
    "version": 3
   },
   "file_extension": ".py",
   "mimetype": "text/x-python",
   "name": "python",
   "nbconvert_exporter": "python",
   "pygments_lexer": "ipython3",
   "version": "3.9.21"
  }
 },
 "nbformat": 4,
 "nbformat_minor": 2
}
