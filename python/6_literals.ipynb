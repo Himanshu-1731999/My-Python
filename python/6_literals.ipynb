{
 "cells": [
  {
   "cell_type": "code",
   "execution_count": null,
   "metadata": {},
   "outputs": [],
   "source": []
  },
  {
   "cell_type": "markdown",
   "metadata": {},
   "source": [
    "Literal\n",
    "--------------------------------------------\n",
    "Literals = basic data values for variables.\n",
    "----------------------------------------------\n",
    "\n",
    "Types in Python:\n",
    "--------------------------\n",
    "\n",
    "Numeric literals\n",
    "------\n",
    "String literals\n",
    "----\n",
    "Boolean literals\n",
    "----\n",
    "Special literals\n",
    "--"
   ]
  },
  {
   "cell_type": "code",
   "execution_count": 1,
   "metadata": {},
   "outputs": [
    {
     "name": "stdout",
     "output_type": "stream",
     "text": [
      "10 100 200 300\n",
      "10.5 150.0 0.0015\n",
      "3.14j 3.14 0.0\n"
     ]
    }
   ],
   "source": [
    "# Integer Literals\n",
    "a = 0b1010  # Binary\n",
    "b = 100     # Decimal\n",
    "c = 0o310   # Octal\n",
    "d = 0x12c   # Hex\n",
    "\n",
    "# Float Literals\n",
    "f1 = 10.5\n",
    "f2 = 1.5e2\n",
    "f3 = 1.5e-3\n",
    "\n",
    "# Complex Literal\n",
    "x = 3.14j\n",
    "\n",
    "print(a, b, c, d)\n",
    "print(f1, f2, f3)\n",
    "print(x, x.imag, x.real)"
   ]
  },
  {
   "cell_type": "code",
   "execution_count": 2,
   "metadata": {},
   "outputs": [],
   "source": [
    "a = 10"
   ]
  },
  {
   "cell_type": "code",
   "execution_count": 4,
   "metadata": {},
   "outputs": [
    {
     "data": {
      "text/plain": [
       "100000000000000000000"
      ]
     },
     "execution_count": 4,
     "metadata": {},
     "output_type": "execute_result"
    }
   ],
   "source": [
    "int(100000000000000000000)"
   ]
  },
  {
   "cell_type": "code",
   "execution_count": 6,
   "metadata": {},
   "outputs": [
    {
     "data": {
      "text/plain": [
       "1000"
      ]
     },
     "execution_count": 6,
     "metadata": {},
     "output_type": "execute_result"
    }
   ],
   "source": [
    "int(10.e2)"
   ]
  },
  {
   "cell_type": "code",
   "execution_count": 7,
   "metadata": {},
   "outputs": [
    {
     "name": "stdout",
     "output_type": "stream",
     "text": [
      "This is Python\n",
      "This is Python\n",
      "C\n",
      "This is a multiline string with more than one line code.\n",
      "😀😆🤣\n",
      "raw \\n string\n"
     ]
    }
   ],
   "source": [
    "string = 'This is Python'\n",
    "strings = \"This is Python\"\n",
    "char = \"C\"\n",
    "multiline_str = \"\"\"This is a multiline string with more than one line code.\"\"\"\n",
    "unicode = u\"\\U0001f600\\U0001F606\\U0001F923\"\n",
    "raw_str = r\"raw \\n string\"\n",
    "\n",
    "print(string)\n",
    "print(strings)\n",
    "print(char)\n",
    "print(multiline_str)\n",
    "print(unicode)\n",
    "print(raw_str)"
   ]
  },
  {
   "cell_type": "code",
   "execution_count": 8,
   "metadata": {},
   "outputs": [
    {
     "name": "stdout",
     "output_type": "stream",
     "text": [
      "a: 5\n",
      "b: 10\n"
     ]
    }
   ],
   "source": [
    "a = True + 4   # True == 1\n",
    "b = False + 10 # False == 0\n",
    "\n",
    "print(\"a:\", a)\n",
    "print(\"b:\", b)"
   ]
  },
  {
   "cell_type": "code",
   "execution_count": 9,
   "metadata": {},
   "outputs": [
    {
     "name": "stdout",
     "output_type": "stream",
     "text": [
      "None\n"
     ]
    }
   ],
   "source": [
    "a = None\n",
    "print(a)"
   ]
  },
  {
   "cell_type": "code",
   "execution_count": null,
   "metadata": {},
   "outputs": [],
   "source": []
  },
  {
   "cell_type": "code",
   "execution_count": null,
   "metadata": {},
   "outputs": [],
   "source": []
  }
 ],
 "metadata": {
  "kernelspec": {
   "display_name": "myenv",
   "language": "python",
   "name": "python3"
  },
  "language_info": {
   "codemirror_mode": {
    "name": "ipython",
    "version": 3
   },
   "file_extension": ".py",
   "mimetype": "text/x-python",
   "name": "python",
   "nbconvert_exporter": "python",
   "pygments_lexer": "ipython3",
   "version": "3.9.21"
  }
 },
 "nbformat": 4,
 "nbformat_minor": 2
}
