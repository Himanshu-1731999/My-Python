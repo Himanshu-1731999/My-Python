{
 "cells": [
  {
   "cell_type": "code",
   "execution_count": null,
   "metadata": {},
   "outputs": [],
   "source": [
    "#for lpp syntax\n",
    "#for i in varaiables\n",
    "# i = container jisme ap varable ko store karate ho\n",
    "# variable wo h jo apne create kiya h jisme apne data rkha h"
   ]
  },
  {
   "cell_type": "code",
   "execution_count": 1,
   "metadata": {},
   "outputs": [],
   "source": [
    "a = \"arun\""
   ]
  },
  {
   "cell_type": "code",
   "execution_count": 4,
   "metadata": {},
   "outputs": [
    {
     "name": "stdout",
     "output_type": "stream",
     "text": [
      "a\n",
      "r\n",
      "u\n",
      "n\n"
     ]
    }
   ],
   "source": [
    "for i in a:\n",
    "    print(i)"
   ]
  },
  {
   "cell_type": "code",
   "execution_count": 5,
   "metadata": {},
   "outputs": [],
   "source": [
    "b = \"arun kumar\""
   ]
  },
  {
   "cell_type": "code",
   "execution_count": 6,
   "metadata": {},
   "outputs": [
    {
     "name": "stdout",
     "output_type": "stream",
     "text": [
      "a\n",
      "r\n",
      "u\n",
      "n\n",
      " \n",
      "k\n",
      "u\n",
      "m\n",
      "a\n",
      "r\n"
     ]
    }
   ],
   "source": [
    "for x in b:\n",
    "    print(x)"
   ]
  },
  {
   "cell_type": "code",
   "execution_count": 7,
   "metadata": {},
   "outputs": [],
   "source": [
    "#range loop ke sath kam karta h\n",
    "#range(5)#0,1,2,3,4\n",
    "#range(1,10)-range(startvalue:included,endvalue:excluded)\n",
    "#range(1,10,2)range(start,end,stepsize)\n"
   ]
  },
  {
   "cell_type": "code",
   "execution_count": 8,
   "metadata": {},
   "outputs": [
    {
     "name": "stdout",
     "output_type": "stream",
     "text": [
      "0\n",
      "1\n",
      "2\n",
      "3\n",
      "4\n"
     ]
    }
   ],
   "source": [
    "for i in range(5):\n",
    "    print(i)"
   ]
  },
  {
   "cell_type": "code",
   "execution_count": 10,
   "metadata": {},
   "outputs": [
    {
     "name": "stdout",
     "output_type": "stream",
     "text": [
      "2\n",
      "3\n",
      "4\n",
      "5\n",
      "6\n",
      "7\n",
      "8\n",
      "9\n",
      "10\n",
      "11\n",
      "12\n",
      "13\n",
      "14\n",
      "15\n",
      "16\n",
      "17\n",
      "18\n",
      "19\n",
      "20\n"
     ]
    }
   ],
   "source": [
    "for i in range(2,21):\n",
    "    print(i)"
   ]
  },
  {
   "cell_type": "code",
   "execution_count": 11,
   "metadata": {},
   "outputs": [
    {
     "name": "stdout",
     "output_type": "stream",
     "text": [
      "5\n",
      "10\n",
      "15\n",
      "20\n",
      "25\n",
      "30\n",
      "35\n",
      "40\n",
      "45\n",
      "50\n"
     ]
    }
   ],
   "source": [
    "for i in range(5,51,5):\n",
    "    print(i)"
   ]
  },
  {
   "cell_type": "code",
   "execution_count": 13,
   "metadata": {},
   "outputs": [
    {
     "name": "stdout",
     "output_type": "stream",
     "text": [
      "even number 0\n",
      "even number 2\n",
      "even number 4\n",
      "even number 6\n",
      "even number 8\n",
      "even number 10\n",
      "even number 12\n",
      "even number 14\n",
      "even number 16\n",
      "even number 18\n",
      "even number 20\n",
      "even number 22\n",
      "even number 24\n",
      "even number 26\n",
      "even number 28\n",
      "even number 30\n",
      "even number 32\n",
      "even number 34\n",
      "even number 36\n",
      "even number 38\n",
      "even number 40\n",
      "even number 42\n",
      "even number 44\n",
      "even number 46\n",
      "even number 48\n",
      "even number 50\n",
      "even number 52\n",
      "even number 54\n",
      "even number 56\n",
      "even number 58\n",
      "even number 60\n",
      "even number 62\n",
      "even number 64\n",
      "even number 66\n",
      "even number 68\n",
      "even number 70\n",
      "even number 72\n",
      "even number 74\n",
      "even number 76\n",
      "even number 78\n",
      "even number 80\n",
      "even number 82\n",
      "even number 84\n",
      "even number 86\n",
      "even number 88\n",
      "even number 90\n",
      "even number 92\n",
      "even number 94\n",
      "even number 96\n",
      "even number 98\n"
     ]
    }
   ],
   "source": [
    "for i in range(100):\n",
    "    if i%2==0:\n",
    "        print(\"even number\",i)"
   ]
  },
  {
   "cell_type": "code",
   "execution_count": 14,
   "metadata": {},
   "outputs": [],
   "source": [
    "#example odd number print karana h"
   ]
  },
  {
   "cell_type": "code",
   "execution_count": 17,
   "metadata": {},
   "outputs": [
    {
     "name": "stdout",
     "output_type": "stream",
     "text": [
      "1\n",
      "3\n",
      "5\n",
      "7\n",
      "9\n",
      "11\n",
      "13\n",
      "15\n",
      "17\n",
      "19\n",
      "21\n",
      "23\n",
      "25\n",
      "27\n",
      "29\n",
      "31\n",
      "33\n",
      "35\n",
      "37\n",
      "39\n",
      "41\n",
      "43\n",
      "45\n",
      "47\n",
      "49\n",
      "51\n",
      "53\n",
      "55\n",
      "57\n",
      "59\n",
      "61\n",
      "63\n",
      "65\n",
      "67\n",
      "69\n",
      "71\n",
      "73\n",
      "75\n",
      "77\n",
      "79\n",
      "81\n",
      "83\n",
      "85\n",
      "87\n",
      "89\n",
      "91\n",
      "93\n",
      "95\n",
      "97\n",
      "99\n"
     ]
    }
   ],
   "source": [
    "for i in range(100):\n",
    "    if i%2!=0:\n",
    "        print(i)"
   ]
  },
  {
   "cell_type": "code",
   "execution_count": 18,
   "metadata": {},
   "outputs": [
    {
     "name": "stdout",
     "output_type": "stream",
     "text": [
      "10\n",
      "20\n",
      "30\n",
      "40\n",
      "50\n"
     ]
    }
   ],
   "source": [
    "list = [10,20,30,40,50]\n",
    "for i in list:\n",
    "    print(i)"
   ]
  },
  {
   "cell_type": "code",
   "execution_count": 19,
   "metadata": {},
   "outputs": [
    {
     "name": "stdout",
     "output_type": "stream",
     "text": [
      "10\n",
      "20\n"
     ]
    }
   ],
   "source": [
    "#break function \n",
    "list = [10,20,30,40,50]\n",
    "for i in list:\n",
    "    if i==30:\n",
    "        break\n",
    "    print(i)"
   ]
  },
  {
   "cell_type": "code",
   "execution_count": 20,
   "metadata": {},
   "outputs": [
    {
     "name": "stdout",
     "output_type": "stream",
     "text": [
      "10\n",
      "20\n",
      "40\n",
      "50\n"
     ]
    }
   ],
   "source": [
    "#continue -wo value ko skip kr deta h\n",
    "list = [10,20,30,40,50]\n",
    "for i in list:\n",
    "    if i == 30:\n",
    "        continue\n",
    "    print(i)"
   ]
  },
  {
   "cell_type": "code",
   "execution_count": 21,
   "metadata": {},
   "outputs": [],
   "source": [
    "fruits = ['papaya','orange','banana','grapes','mango']#grapes tak data chaiye loop laga ker karo"
   ]
  },
  {
   "cell_type": "code",
   "execution_count": 23,
   "metadata": {},
   "outputs": [
    {
     "name": "stdout",
     "output_type": "stream",
     "text": [
      "papaya\n",
      "orange\n",
      "banana\n",
      "grapes\n"
     ]
    }
   ],
   "source": [
    "fruits = ['papaya','orange','banana','grapes','mango']\n",
    "for i in fruits:\n",
    "    if i=='mango':\n",
    "        break\n",
    "    print(i)"
   ]
  },
  {
   "cell_type": "code",
   "execution_count": 24,
   "metadata": {},
   "outputs": [
    {
     "name": "stdout",
     "output_type": "stream",
     "text": [
      "papaya\n",
      "orange\n",
      "grapes\n",
      "mango\n"
     ]
    }
   ],
   "source": [
    "fruits = ['papaya','orange','banana','grapes','mango']\n",
    "for i in fruits:\n",
    "    if i=='banana':\n",
    "        continue\n",
    "    print(i)"
   ]
  },
  {
   "cell_type": "code",
   "execution_count": 25,
   "metadata": {},
   "outputs": [
    {
     "name": "stdout",
     "output_type": "stream",
     "text": [
      "1\n",
      "2\n",
      "3\n",
      "4\n",
      "5\n",
      "6\n",
      "7\n",
      "8\n",
      "9\n",
      "10\n",
      "11\n",
      "12\n",
      "13\n",
      "14\n",
      "15\n",
      "16\n",
      "17\n",
      "18\n",
      "19\n",
      "20\n"
     ]
    }
   ],
   "source": [
    "for i in range(1,21):\n",
    "    print(i)"
   ]
  },
  {
   "cell_type": "code",
   "execution_count": 27,
   "metadata": {},
   "outputs": [
    {
     "name": "stdout",
     "output_type": "stream",
     "text": [
      "Collecting pandas\n",
      "  Downloading pandas-2.2.3-cp39-cp39-win_amd64.whl.metadata (19 kB)\n",
      "Collecting numpy>=1.22.4 (from pandas)\n",
      "  Downloading numpy-2.0.2-cp39-cp39-win_amd64.whl.metadata (59 kB)\n",
      "Requirement already satisfied: python-dateutil>=2.8.2 in c:\\users\\hr51a\\anaconda3\\envs\\myenv\\lib\\site-packages (from pandas) (2.9.0.post0)\n",
      "Collecting pytz>=2020.1 (from pandas)\n",
      "  Downloading pytz-2025.1-py2.py3-none-any.whl.metadata (22 kB)\n",
      "Collecting tzdata>=2022.7 (from pandas)\n",
      "  Downloading tzdata-2025.1-py2.py3-none-any.whl.metadata (1.4 kB)\n",
      "Requirement already satisfied: six>=1.5 in c:\\users\\hr51a\\anaconda3\\envs\\myenv\\lib\\site-packages (from python-dateutil>=2.8.2->pandas) (1.17.0)\n",
      "Downloading pandas-2.2.3-cp39-cp39-win_amd64.whl (11.6 MB)\n",
      "   ---------------------------------------- 0.0/11.6 MB ? eta -:--:--\n",
      "   ---------------------------------------- 0.0/11.6 MB ? eta -:--:--\n",
      "    --------------------------------------- 0.3/11.6 MB ? eta -:--:--\n",
      "   - -------------------------------------- 0.5/11.6 MB 882.6 kB/s eta 0:00:13\n",
      "   -- ------------------------------------- 0.8/11.6 MB 985.5 kB/s eta 0:00:11\n",
      "   -- ------------------------------------- 0.8/11.6 MB 985.5 kB/s eta 0:00:11\n",
      "   ---- ----------------------------------- 1.3/11.6 MB 1.1 MB/s eta 0:00:10\n",
      "   ---- ----------------------------------- 1.3/11.6 MB 1.1 MB/s eta 0:00:10\n",
      "   ------ --------------------------------- 1.8/11.6 MB 1.1 MB/s eta 0:00:09\n",
      "   ------- -------------------------------- 2.1/11.6 MB 1.2 MB/s eta 0:00:09\n",
      "   -------- ------------------------------- 2.4/11.6 MB 1.2 MB/s eta 0:00:09\n",
      "   --------- ------------------------------ 2.6/11.6 MB 1.2 MB/s eta 0:00:08\n",
      "   --------- ------------------------------ 2.9/11.6 MB 1.2 MB/s eta 0:00:08\n",
      "   ---------- ----------------------------- 3.1/11.6 MB 1.2 MB/s eta 0:00:07\n",
      "   ------------ --------------------------- 3.7/11.6 MB 1.3 MB/s eta 0:00:07\n",
      "   ------------- -------------------------- 3.9/11.6 MB 1.3 MB/s eta 0:00:06\n",
      "   -------------- ------------------------- 4.2/11.6 MB 1.3 MB/s eta 0:00:06\n",
      "   --------------- ------------------------ 4.5/11.6 MB 1.3 MB/s eta 0:00:06\n",
      "   ---------------- ----------------------- 4.7/11.6 MB 1.3 MB/s eta 0:00:06\n",
      "   ---------------- ----------------------- 4.7/11.6 MB 1.3 MB/s eta 0:00:06\n",
      "   ----------------- ---------------------- 5.0/11.6 MB 1.2 MB/s eta 0:00:06\n",
      "   ------------------ --------------------- 5.2/11.6 MB 1.2 MB/s eta 0:00:06\n",
      "   ------------------ --------------------- 5.5/11.6 MB 1.2 MB/s eta 0:00:05\n",
      "   ------------------- -------------------- 5.8/11.6 MB 1.2 MB/s eta 0:00:05\n",
      "   -------------------- ------------------- 6.0/11.6 MB 1.2 MB/s eta 0:00:05\n",
      "   --------------------- ------------------ 6.3/11.6 MB 1.2 MB/s eta 0:00:05\n",
      "   --------------------- ------------------ 6.3/11.6 MB 1.2 MB/s eta 0:00:05\n",
      "   ---------------------- ----------------- 6.6/11.6 MB 1.2 MB/s eta 0:00:05\n",
      "   ----------------------- ---------------- 6.8/11.6 MB 1.2 MB/s eta 0:00:05\n",
      "   ------------------------ --------------- 7.1/11.6 MB 1.2 MB/s eta 0:00:04\n",
      "   ------------------------- -------------- 7.3/11.6 MB 1.2 MB/s eta 0:00:04\n",
      "   -------------------------- ------------- 7.6/11.6 MB 1.2 MB/s eta 0:00:04\n",
      "   --------------------------- ------------ 7.9/11.6 MB 1.2 MB/s eta 0:00:04\n",
      "   --------------------------- ------------ 7.9/11.6 MB 1.2 MB/s eta 0:00:04\n",
      "   --------------------------- ------------ 8.1/11.6 MB 1.2 MB/s eta 0:00:03\n",
      "   ---------------------------- ----------- 8.4/11.6 MB 1.2 MB/s eta 0:00:03\n",
      "   ----------------------------- ---------- 8.7/11.6 MB 1.2 MB/s eta 0:00:03\n",
      "   ------------------------------ --------- 8.9/11.6 MB 1.2 MB/s eta 0:00:03\n",
      "   ------------------------------- -------- 9.2/11.6 MB 1.2 MB/s eta 0:00:03\n",
      "   -------------------------------- ------- 9.4/11.6 MB 1.1 MB/s eta 0:00:02\n",
      "   -------------------------------- ------- 9.4/11.6 MB 1.1 MB/s eta 0:00:02\n",
      "   --------------------------------- ------ 9.7/11.6 MB 1.2 MB/s eta 0:00:02\n",
      "   ---------------------------------- ----- 10.0/11.6 MB 1.1 MB/s eta 0:00:02\n",
      "   ----------------------------------- ---- 10.2/11.6 MB 1.1 MB/s eta 0:00:02\n",
      "   ----------------------------------- ---- 10.2/11.6 MB 1.1 MB/s eta 0:00:02\n",
      "   ------------------------------------ --- 10.5/11.6 MB 1.1 MB/s eta 0:00:02\n",
      "   ------------------------------------- -- 10.7/11.6 MB 1.1 MB/s eta 0:00:01\n",
      "   ------------------------------------- -- 10.7/11.6 MB 1.1 MB/s eta 0:00:01\n",
      "   ------------------------------------- -- 11.0/11.6 MB 1.1 MB/s eta 0:00:01\n",
      "   -------------------------------------- - 11.3/11.6 MB 1.1 MB/s eta 0:00:01\n",
      "   ---------------------------------------  11.5/11.6 MB 1.1 MB/s eta 0:00:01\n",
      "   ---------------------------------------- 11.6/11.6 MB 1.1 MB/s eta 0:00:00\n",
      "Downloading numpy-2.0.2-cp39-cp39-win_amd64.whl (15.9 MB)\n",
      "   ---------------------------------------- 0.0/15.9 MB ? eta -:--:--\n",
      "   ---------------------------------------- 0.0/15.9 MB ? eta -:--:--\n",
      "    --------------------------------------- 0.3/15.9 MB ? eta -:--:--\n",
      "   - -------------------------------------- 0.5/15.9 MB 989.2 kB/s eta 0:00:16\n",
      "   - -------------------------------------- 0.5/15.9 MB 989.2 kB/s eta 0:00:16\n",
      "   - -------------------------------------- 0.8/15.9 MB 932.9 kB/s eta 0:00:17\n",
      "   -- ------------------------------------- 1.0/15.9 MB 949.8 kB/s eta 0:00:16\n",
      "   --- ------------------------------------ 1.3/15.9 MB 972.7 kB/s eta 0:00:16\n",
      "   --- ------------------------------------ 1.6/15.9 MB 976.0 kB/s eta 0:00:15\n",
      "   --- ------------------------------------ 1.6/15.9 MB 976.0 kB/s eta 0:00:15\n",
      "   ---- ----------------------------------- 1.8/15.9 MB 967.9 kB/s eta 0:00:15\n",
      "   ----- ---------------------------------- 2.1/15.9 MB 962.8 kB/s eta 0:00:15\n",
      "   ----- ---------------------------------- 2.4/15.9 MB 972.7 kB/s eta 0:00:14\n",
      "   ------ --------------------------------- 2.6/15.9 MB 968.1 kB/s eta 0:00:14\n",
      "   ------ --------------------------------- 2.6/15.9 MB 968.1 kB/s eta 0:00:14\n",
      "   ------- -------------------------------- 2.9/15.9 MB 975.6 kB/s eta 0:00:14\n",
      "   ------- -------------------------------- 3.1/15.9 MB 976.5 kB/s eta 0:00:14\n",
      "   -------- ------------------------------- 3.4/15.9 MB 954.1 kB/s eta 0:00:14\n",
      "   -------- ------------------------------- 3.4/15.9 MB 954.1 kB/s eta 0:00:14\n",
      "   --------- ------------------------------ 3.7/15.9 MB 956.7 kB/s eta 0:00:13\n",
      "   --------- ------------------------------ 3.9/15.9 MB 955.0 kB/s eta 0:00:13\n",
      "   ---------- ----------------------------- 4.2/15.9 MB 946.1 kB/s eta 0:00:13\n",
      "   ---------- ----------------------------- 4.2/15.9 MB 946.1 kB/s eta 0:00:13\n",
      "   ----------- ---------------------------- 4.5/15.9 MB 952.0 kB/s eta 0:00:13\n",
      "   ----------- ---------------------------- 4.7/15.9 MB 953.9 kB/s eta 0:00:12\n",
      "   ------------ --------------------------- 5.0/15.9 MB 961.8 kB/s eta 0:00:12\n",
      "   ------------- -------------------------- 5.2/15.9 MB 957.3 kB/s eta 0:00:12\n",
      "   ------------- -------------------------- 5.2/15.9 MB 957.3 kB/s eta 0:00:12\n",
      "   ------------- -------------------------- 5.5/15.9 MB 945.2 kB/s eta 0:00:12\n",
      "   -------------- ------------------------- 5.8/15.9 MB 942.2 kB/s eta 0:00:11\n",
      "   -------------- ------------------------- 5.8/15.9 MB 942.2 kB/s eta 0:00:11\n",
      "   --------------- ------------------------ 6.0/15.9 MB 932.1 kB/s eta 0:00:11\n",
      "   --------------- ------------------------ 6.3/15.9 MB 934.3 kB/s eta 0:00:11\n",
      "   ---------------- ----------------------- 6.6/15.9 MB 940.8 kB/s eta 0:00:10\n",
      "   ---------------- ----------------------- 6.6/15.9 MB 940.8 kB/s eta 0:00:10\n",
      "   ----------------- ---------------------- 6.8/15.9 MB 940.5 kB/s eta 0:00:10\n",
      "   ----------------- ---------------------- 7.1/15.9 MB 940.1 kB/s eta 0:00:10\n",
      "   ------------------ --------------------- 7.3/15.9 MB 943.7 kB/s eta 0:00:10\n",
      "   ------------------ --------------------- 7.3/15.9 MB 943.7 kB/s eta 0:00:10\n",
      "   ------------------- -------------------- 7.6/15.9 MB 941.4 kB/s eta 0:00:09\n",
      "   ------------------- -------------------- 7.9/15.9 MB 944.7 kB/s eta 0:00:09\n",
      "   -------------------- ------------------- 8.1/15.9 MB 940.8 kB/s eta 0:00:09\n",
      "   -------------------- ------------------- 8.1/15.9 MB 940.8 kB/s eta 0:00:09\n",
      "   --------------------- ------------------ 8.4/15.9 MB 943.9 kB/s eta 0:00:08\n",
      "   --------------------- ------------------ 8.7/15.9 MB 948.6 kB/s eta 0:00:08\n",
      "   ---------------------- ----------------- 8.9/15.9 MB 949.7 kB/s eta 0:00:08\n",
      "   ----------------------- ---------------- 9.2/15.9 MB 957.1 kB/s eta 0:00:08\n",
      "   ----------------------- ---------------- 9.4/15.9 MB 961.0 kB/s eta 0:00:07\n",
      "   ----------------------- ---------------- 9.4/15.9 MB 961.0 kB/s eta 0:00:07\n",
      "   ------------------------- -------------- 10.0/15.9 MB 965.4 kB/s eta 0:00:07\n",
      "   ------------------------- -------------- 10.2/15.9 MB 974.9 kB/s eta 0:00:06\n",
      "   -------------------------- ------------- 10.5/15.9 MB 984.0 kB/s eta 0:00:06\n",
      "   --------------------------- ------------ 10.7/15.9 MB 991.3 kB/s eta 0:00:06\n",
      "   --------------------------- ------------ 11.0/15.9 MB 995.5 kB/s eta 0:00:05\n",
      "   ---------------------------- ----------- 11.3/15.9 MB 999.5 kB/s eta 0:00:05\n",
      "   ---------------------------- ----------- 11.5/15.9 MB 1.0 MB/s eta 0:00:05\n",
      "   ----------------------------- ---------- 11.8/15.9 MB 1.0 MB/s eta 0:00:05\n",
      "   ------------------------------ --------- 12.1/15.9 MB 1.0 MB/s eta 0:00:04\n",
      "   ------------------------------ --------- 12.3/15.9 MB 1.0 MB/s eta 0:00:04\n",
      "   ------------------------------- -------- 12.6/15.9 MB 1.0 MB/s eta 0:00:04\n",
      "   -------------------------------- ------- 13.1/15.9 MB 1.0 MB/s eta 0:00:03\n",
      "   --------------------------------- ------ 13.4/15.9 MB 1.0 MB/s eta 0:00:03\n",
      "   ---------------------------------- ----- 13.6/15.9 MB 1.1 MB/s eta 0:00:03\n",
      "   ---------------------------------- ----- 13.9/15.9 MB 1.1 MB/s eta 0:00:02\n",
      "   ----------------------------------- ---- 14.2/15.9 MB 1.1 MB/s eta 0:00:02\n",
      "   ------------------------------------ --- 14.4/15.9 MB 1.1 MB/s eta 0:00:02\n",
      "   ------------------------------------ --- 14.7/15.9 MB 1.1 MB/s eta 0:00:02\n",
      "   ------------------------------------- -- 14.9/15.9 MB 1.1 MB/s eta 0:00:01\n",
      "   -------------------------------------- - 15.5/15.9 MB 1.1 MB/s eta 0:00:01\n",
      "   ---------------------------------------  15.7/15.9 MB 1.1 MB/s eta 0:00:01\n",
      "   ---------------------------------------- 15.9/15.9 MB 1.1 MB/s eta 0:00:00\n",
      "Downloading pytz-2025.1-py2.py3-none-any.whl (507 kB)\n",
      "Downloading tzdata-2025.1-py2.py3-none-any.whl (346 kB)\n",
      "Installing collected packages: pytz, tzdata, numpy, pandas\n",
      "Successfully installed numpy-2.0.2 pandas-2.2.3 pytz-2025.1 tzdata-2025.1\n"
     ]
    }
   ],
   "source": [
    "!pip install pandas"
   ]
  },
  {
   "cell_type": "code",
   "execution_count": 28,
   "metadata": {},
   "outputs": [],
   "source": [
    "import pandas as hima"
   ]
  },
  {
   "cell_type": "code",
   "execution_count": 30,
   "metadata": {},
   "outputs": [],
   "source": [
    "data = hima.read_csv(\"C:\\\\Users\\\\hr51a\\\\OneDrive\\\\Desktop\\\\My-Python\\\\subs.csv\")"
   ]
  },
  {
   "cell_type": "code",
   "execution_count": 31,
   "metadata": {},
   "outputs": [
    {
     "data": {
      "text/html": [
       "<div>\n",
       "<style scoped>\n",
       "    .dataframe tbody tr th:only-of-type {\n",
       "        vertical-align: middle;\n",
       "    }\n",
       "\n",
       "    .dataframe tbody tr th {\n",
       "        vertical-align: top;\n",
       "    }\n",
       "\n",
       "    .dataframe thead th {\n",
       "        text-align: right;\n",
       "    }\n",
       "</style>\n",
       "<table border=\"1\" class=\"dataframe\">\n",
       "  <thead>\n",
       "    <tr style=\"text-align: right;\">\n",
       "      <th></th>\n",
       "      <th>Subscribers gained</th>\n",
       "    </tr>\n",
       "  </thead>\n",
       "  <tbody>\n",
       "    <tr>\n",
       "      <th>0</th>\n",
       "      <td>48</td>\n",
       "    </tr>\n",
       "    <tr>\n",
       "      <th>1</th>\n",
       "      <td>57</td>\n",
       "    </tr>\n",
       "    <tr>\n",
       "      <th>2</th>\n",
       "      <td>40</td>\n",
       "    </tr>\n",
       "    <tr>\n",
       "      <th>3</th>\n",
       "      <td>43</td>\n",
       "    </tr>\n",
       "    <tr>\n",
       "      <th>4</th>\n",
       "      <td>44</td>\n",
       "    </tr>\n",
       "    <tr>\n",
       "      <th>...</th>\n",
       "      <td>...</td>\n",
       "    </tr>\n",
       "    <tr>\n",
       "      <th>360</th>\n",
       "      <td>231</td>\n",
       "    </tr>\n",
       "    <tr>\n",
       "      <th>361</th>\n",
       "      <td>226</td>\n",
       "    </tr>\n",
       "    <tr>\n",
       "      <th>362</th>\n",
       "      <td>155</td>\n",
       "    </tr>\n",
       "    <tr>\n",
       "      <th>363</th>\n",
       "      <td>144</td>\n",
       "    </tr>\n",
       "    <tr>\n",
       "      <th>364</th>\n",
       "      <td>172</td>\n",
       "    </tr>\n",
       "  </tbody>\n",
       "</table>\n",
       "<p>365 rows × 1 columns</p>\n",
       "</div>"
      ],
      "text/plain": [
       "     Subscribers gained\n",
       "0                    48\n",
       "1                    57\n",
       "2                    40\n",
       "3                    43\n",
       "4                    44\n",
       "..                  ...\n",
       "360                 231\n",
       "361                 226\n",
       "362                 155\n",
       "363                 144\n",
       "364                 172\n",
       "\n",
       "[365 rows x 1 columns]"
      ]
     },
     "execution_count": 31,
     "metadata": {},
     "output_type": "execute_result"
    }
   ],
   "source": [
    "data"
   ]
  },
  {
   "cell_type": "code",
   "execution_count": 32,
   "metadata": {},
   "outputs": [],
   "source": [
    "data = hima.read_csv(\"C:/Users/hr51a/OneDrive/Desktop/My-Python/subs.csv\")"
   ]
  },
  {
   "cell_type": "code",
   "execution_count": 33,
   "metadata": {},
   "outputs": [
    {
     "data": {
      "text/html": [
       "<div>\n",
       "<style scoped>\n",
       "    .dataframe tbody tr th:only-of-type {\n",
       "        vertical-align: middle;\n",
       "    }\n",
       "\n",
       "    .dataframe tbody tr th {\n",
       "        vertical-align: top;\n",
       "    }\n",
       "\n",
       "    .dataframe thead th {\n",
       "        text-align: right;\n",
       "    }\n",
       "</style>\n",
       "<table border=\"1\" class=\"dataframe\">\n",
       "  <thead>\n",
       "    <tr style=\"text-align: right;\">\n",
       "      <th></th>\n",
       "      <th>Subscribers gained</th>\n",
       "    </tr>\n",
       "  </thead>\n",
       "  <tbody>\n",
       "    <tr>\n",
       "      <th>0</th>\n",
       "      <td>48</td>\n",
       "    </tr>\n",
       "    <tr>\n",
       "      <th>1</th>\n",
       "      <td>57</td>\n",
       "    </tr>\n",
       "    <tr>\n",
       "      <th>2</th>\n",
       "      <td>40</td>\n",
       "    </tr>\n",
       "    <tr>\n",
       "      <th>3</th>\n",
       "      <td>43</td>\n",
       "    </tr>\n",
       "    <tr>\n",
       "      <th>4</th>\n",
       "      <td>44</td>\n",
       "    </tr>\n",
       "    <tr>\n",
       "      <th>...</th>\n",
       "      <td>...</td>\n",
       "    </tr>\n",
       "    <tr>\n",
       "      <th>360</th>\n",
       "      <td>231</td>\n",
       "    </tr>\n",
       "    <tr>\n",
       "      <th>361</th>\n",
       "      <td>226</td>\n",
       "    </tr>\n",
       "    <tr>\n",
       "      <th>362</th>\n",
       "      <td>155</td>\n",
       "    </tr>\n",
       "    <tr>\n",
       "      <th>363</th>\n",
       "      <td>144</td>\n",
       "    </tr>\n",
       "    <tr>\n",
       "      <th>364</th>\n",
       "      <td>172</td>\n",
       "    </tr>\n",
       "  </tbody>\n",
       "</table>\n",
       "<p>365 rows × 1 columns</p>\n",
       "</div>"
      ],
      "text/plain": [
       "     Subscribers gained\n",
       "0                    48\n",
       "1                    57\n",
       "2                    40\n",
       "3                    43\n",
       "4                    44\n",
       "..                  ...\n",
       "360                 231\n",
       "361                 226\n",
       "362                 155\n",
       "363                 144\n",
       "364                 172\n",
       "\n",
       "[365 rows x 1 columns]"
      ]
     },
     "execution_count": 33,
     "metadata": {},
     "output_type": "execute_result"
    }
   ],
   "source": [
    "data"
   ]
  },
  {
   "cell_type": "code",
   "execution_count": 34,
   "metadata": {},
   "outputs": [
    {
     "data": {
      "text/plain": [
       "Index(['Subscribers gained'], dtype='object')"
      ]
     },
     "execution_count": 34,
     "metadata": {},
     "output_type": "execute_result"
    }
   ],
   "source": [
    "data.columns"
   ]
  },
  {
   "cell_type": "code",
   "execution_count": 35,
   "metadata": {},
   "outputs": [
    {
     "name": "stdout",
     "output_type": "stream",
     "text": [
      "<class 'pandas.core.frame.DataFrame'>\n",
      "RangeIndex: 365 entries, 0 to 364\n",
      "Data columns (total 1 columns):\n",
      " #   Column              Non-Null Count  Dtype\n",
      "---  ------              --------------  -----\n",
      " 0   Subscribers gained  365 non-null    int64\n",
      "dtypes: int64(1)\n",
      "memory usage: 3.0 KB\n"
     ]
    }
   ],
   "source": [
    "data.info()"
   ]
  },
  {
   "cell_type": "code",
   "execution_count": 36,
   "metadata": {},
   "outputs": [
    {
     "name": "stdout",
     "output_type": "stream",
     "text": [
      "123\n",
      "108\n",
      "110\n",
      "126\n",
      "109\n",
      "108\n",
      "101\n",
      "128\n",
      "111\n",
      "101\n",
      "105\n",
      "104\n",
      "104\n",
      "136\n",
      "115\n",
      "123\n",
      "112\n",
      "145\n",
      "132\n",
      "123\n",
      "110\n",
      "120\n",
      "105\n",
      "105\n",
      "159\n",
      "136\n",
      "135\n",
      "109\n",
      "128\n",
      "105\n",
      "105\n",
      "104\n",
      "119\n",
      "118\n",
      "114\n",
      "117\n",
      "102\n",
      "101\n",
      "114\n",
      "118\n",
      "113\n",
      "123\n",
      "129\n",
      "140\n",
      "180\n",
      "225\n",
      "249\n",
      "265\n",
      "306\n",
      "261\n",
      "222\n",
      "170\n",
      "160\n",
      "114\n",
      "175\n",
      "170\n",
      "115\n",
      "152\n",
      "105\n",
      "105\n",
      "110\n",
      "102\n",
      "136\n",
      "105\n",
      "130\n",
      "146\n",
      "146\n",
      "105\n",
      "146\n",
      "150\n",
      "114\n",
      "113\n",
      "117\n",
      "108\n",
      "103\n",
      "108\n",
      "138\n",
      "124\n",
      "139\n",
      "117\n",
      "103\n",
      "108\n",
      "146\n",
      "131\n",
      "113\n",
      "108\n",
      "125\n",
      "119\n",
      "115\n",
      "123\n",
      "119\n",
      "127\n",
      "135\n",
      "137\n",
      "156\n",
      "160\n",
      "122\n",
      "111\n",
      "131\n",
      "192\n",
      "224\n",
      "254\n",
      "214\n",
      "236\n",
      "261\n",
      "247\n",
      "207\n",
      "254\n",
      "301\n",
      "233\n",
      "168\n",
      "179\n",
      "154\n",
      "152\n",
      "153\n",
      "202\n",
      "185\n",
      "158\n",
      "173\n",
      "180\n",
      "184\n",
      "259\n",
      "196\n",
      "213\n",
      "210\n",
      "179\n",
      "182\n",
      "216\n",
      "183\n",
      "185\n",
      "159\n",
      "180\n",
      "160\n",
      "154\n",
      "147\n",
      "138\n",
      "157\n",
      "134\n",
      "184\n",
      "134\n",
      "132\n",
      "119\n",
      "153\n",
      "185\n",
      "138\n",
      "150\n",
      "134\n",
      "160\n",
      "170\n",
      "175\n",
      "228\n",
      "237\n",
      "276\n",
      "173\n",
      "290\n",
      "295\n",
      "245\n",
      "241\n",
      "267\n",
      "269\n",
      "211\n",
      "186\n",
      "206\n",
      "202\n",
      "176\n",
      "236\n",
      "222\n",
      "203\n",
      "190\n",
      "190\n",
      "170\n",
      "156\n",
      "172\n",
      "174\n",
      "157\n",
      "178\n",
      "189\n",
      "174\n",
      "157\n",
      "173\n",
      "162\n",
      "151\n",
      "115\n",
      "152\n",
      "150\n",
      "186\n",
      "156\n",
      "230\n",
      "186\n",
      "150\n",
      "153\n",
      "167\n",
      "183\n",
      "244\n",
      "158\n",
      "155\n",
      "167\n",
      "157\n",
      "196\n",
      "243\n",
      "227\n",
      "259\n",
      "183\n",
      "166\n",
      "154\n",
      "396\n",
      "312\n",
      "268\n",
      "229\n",
      "197\n",
      "188\n",
      "176\n",
      "221\n",
      "225\n",
      "221\n",
      "202\n",
      "171\n",
      "185\n",
      "184\n",
      "276\n",
      "258\n",
      "219\n",
      "212\n",
      "192\n",
      "164\n",
      "192\n",
      "220\n",
      "196\n",
      "197\n",
      "204\n",
      "149\n",
      "156\n",
      "177\n",
      "210\n",
      "209\n",
      "231\n",
      "226\n",
      "155\n",
      "144\n",
      "172\n"
     ]
    }
   ],
   "source": [
    "for i in data['Subscribers gained']:\n",
    "    if i>100:\n",
    "        print(i)"
   ]
  },
  {
   "cell_type": "code",
   "execution_count": 37,
   "metadata": {},
   "outputs": [],
   "source": [
    "d = []\n",
    "for i in data['Subscribers gained']:\n",
    "    if i>100:\n",
    "        d.append(i)\n",
    "        "
   ]
  },
  {
   "cell_type": "code",
   "execution_count": 42,
   "metadata": {},
   "outputs": [
    {
     "data": {
      "text/plain": [
       "[123,\n",
       " 108,\n",
       " 110,\n",
       " 126,\n",
       " 109,\n",
       " 108,\n",
       " 101,\n",
       " 128,\n",
       " 111,\n",
       " 101,\n",
       " 105,\n",
       " 104,\n",
       " 104,\n",
       " 136,\n",
       " 115,\n",
       " 123,\n",
       " 112,\n",
       " 145,\n",
       " 132,\n",
       " 123,\n",
       " 110,\n",
       " 120,\n",
       " 105,\n",
       " 105,\n",
       " 159,\n",
       " 136,\n",
       " 135,\n",
       " 109,\n",
       " 128,\n",
       " 105,\n",
       " 105,\n",
       " 104,\n",
       " 119,\n",
       " 118,\n",
       " 114,\n",
       " 117,\n",
       " 102,\n",
       " 101,\n",
       " 114,\n",
       " 118,\n",
       " 113,\n",
       " 123,\n",
       " 129,\n",
       " 140,\n",
       " 180,\n",
       " 225,\n",
       " 249,\n",
       " 265,\n",
       " 306,\n",
       " 261,\n",
       " 222,\n",
       " 170,\n",
       " 160,\n",
       " 114,\n",
       " 175,\n",
       " 170,\n",
       " 115,\n",
       " 152,\n",
       " 105,\n",
       " 105,\n",
       " 110,\n",
       " 102,\n",
       " 136,\n",
       " 105,\n",
       " 130,\n",
       " 146,\n",
       " 146,\n",
       " 105,\n",
       " 146,\n",
       " 150,\n",
       " 114,\n",
       " 113,\n",
       " 117,\n",
       " 108,\n",
       " 103,\n",
       " 108,\n",
       " 138,\n",
       " 124,\n",
       " 139,\n",
       " 117,\n",
       " 103,\n",
       " 108,\n",
       " 146,\n",
       " 131,\n",
       " 113,\n",
       " 108,\n",
       " 125,\n",
       " 119,\n",
       " 115,\n",
       " 123,\n",
       " 119,\n",
       " 127,\n",
       " 135,\n",
       " 137,\n",
       " 156,\n",
       " 160,\n",
       " 122,\n",
       " 111,\n",
       " 131,\n",
       " 192,\n",
       " 224,\n",
       " 254,\n",
       " 214,\n",
       " 236,\n",
       " 261,\n",
       " 247,\n",
       " 207,\n",
       " 254,\n",
       " 301,\n",
       " 233,\n",
       " 168,\n",
       " 179,\n",
       " 154,\n",
       " 152,\n",
       " 153,\n",
       " 202,\n",
       " 185,\n",
       " 158,\n",
       " 173,\n",
       " 180,\n",
       " 184,\n",
       " 259,\n",
       " 196,\n",
       " 213,\n",
       " 210,\n",
       " 179,\n",
       " 182,\n",
       " 216,\n",
       " 183,\n",
       " 185,\n",
       " 159,\n",
       " 180,\n",
       " 160,\n",
       " 154,\n",
       " 147,\n",
       " 138,\n",
       " 157,\n",
       " 134,\n",
       " 184,\n",
       " 134,\n",
       " 132,\n",
       " 119,\n",
       " 153,\n",
       " 185,\n",
       " 138,\n",
       " 150,\n",
       " 134,\n",
       " 160,\n",
       " 170,\n",
       " 175,\n",
       " 228,\n",
       " 237,\n",
       " 276,\n",
       " 173,\n",
       " 290,\n",
       " 295,\n",
       " 245,\n",
       " 241,\n",
       " 267,\n",
       " 269,\n",
       " 211,\n",
       " 186,\n",
       " 206,\n",
       " 202,\n",
       " 176,\n",
       " 236,\n",
       " 222,\n",
       " 203,\n",
       " 190,\n",
       " 190,\n",
       " 170,\n",
       " 156,\n",
       " 172,\n",
       " 174,\n",
       " 157,\n",
       " 178,\n",
       " 189,\n",
       " 174,\n",
       " 157,\n",
       " 173,\n",
       " 162,\n",
       " 151,\n",
       " 115,\n",
       " 152,\n",
       " 150,\n",
       " 186,\n",
       " 156,\n",
       " 230,\n",
       " 186,\n",
       " 150,\n",
       " 153,\n",
       " 167,\n",
       " 183,\n",
       " 244,\n",
       " 158,\n",
       " 155,\n",
       " 167,\n",
       " 157,\n",
       " 196,\n",
       " 243,\n",
       " 227,\n",
       " 259,\n",
       " 183,\n",
       " 166,\n",
       " 154,\n",
       " 396,\n",
       " 312,\n",
       " 268,\n",
       " 229,\n",
       " 197,\n",
       " 188,\n",
       " 176,\n",
       " 221,\n",
       " 225,\n",
       " 221,\n",
       " 202,\n",
       " 171,\n",
       " 185,\n",
       " 184,\n",
       " 276,\n",
       " 258,\n",
       " 219,\n",
       " 212,\n",
       " 192,\n",
       " 164,\n",
       " 192,\n",
       " 220,\n",
       " 196,\n",
       " 197,\n",
       " 204,\n",
       " 149,\n",
       " 156,\n",
       " 177,\n",
       " 210,\n",
       " 209,\n",
       " 231,\n",
       " 226,\n",
       " 155,\n",
       " 144,\n",
       " 172]"
      ]
     },
     "execution_count": 42,
     "metadata": {},
     "output_type": "execute_result"
    }
   ],
   "source": [
    "d"
   ]
  },
  {
   "cell_type": "code",
   "execution_count": 43,
   "metadata": {},
   "outputs": [
    {
     "data": {
      "text/plain": [
       "list"
      ]
     },
     "execution_count": 43,
     "metadata": {},
     "output_type": "execute_result"
    }
   ],
   "source": [
    "type(d)"
   ]
  },
  {
   "cell_type": "code",
   "execution_count": 46,
   "metadata": {},
   "outputs": [],
   "source": [
    "my_data = hima.DataFrame(d)"
   ]
  },
  {
   "cell_type": "code",
   "execution_count": 47,
   "metadata": {},
   "outputs": [
    {
     "data": {
      "text/html": [
       "<div>\n",
       "<style scoped>\n",
       "    .dataframe tbody tr th:only-of-type {\n",
       "        vertical-align: middle;\n",
       "    }\n",
       "\n",
       "    .dataframe tbody tr th {\n",
       "        vertical-align: top;\n",
       "    }\n",
       "\n",
       "    .dataframe thead th {\n",
       "        text-align: right;\n",
       "    }\n",
       "</style>\n",
       "<table border=\"1\" class=\"dataframe\">\n",
       "  <thead>\n",
       "    <tr style=\"text-align: right;\">\n",
       "      <th></th>\n",
       "      <th>0</th>\n",
       "    </tr>\n",
       "  </thead>\n",
       "  <tbody>\n",
       "    <tr>\n",
       "      <th>0</th>\n",
       "      <td>123</td>\n",
       "    </tr>\n",
       "    <tr>\n",
       "      <th>1</th>\n",
       "      <td>108</td>\n",
       "    </tr>\n",
       "    <tr>\n",
       "      <th>2</th>\n",
       "      <td>110</td>\n",
       "    </tr>\n",
       "    <tr>\n",
       "      <th>3</th>\n",
       "      <td>126</td>\n",
       "    </tr>\n",
       "    <tr>\n",
       "      <th>4</th>\n",
       "      <td>109</td>\n",
       "    </tr>\n",
       "    <tr>\n",
       "      <th>...</th>\n",
       "      <td>...</td>\n",
       "    </tr>\n",
       "    <tr>\n",
       "      <th>235</th>\n",
       "      <td>231</td>\n",
       "    </tr>\n",
       "    <tr>\n",
       "      <th>236</th>\n",
       "      <td>226</td>\n",
       "    </tr>\n",
       "    <tr>\n",
       "      <th>237</th>\n",
       "      <td>155</td>\n",
       "    </tr>\n",
       "    <tr>\n",
       "      <th>238</th>\n",
       "      <td>144</td>\n",
       "    </tr>\n",
       "    <tr>\n",
       "      <th>239</th>\n",
       "      <td>172</td>\n",
       "    </tr>\n",
       "  </tbody>\n",
       "</table>\n",
       "<p>240 rows × 1 columns</p>\n",
       "</div>"
      ],
      "text/plain": [
       "       0\n",
       "0    123\n",
       "1    108\n",
       "2    110\n",
       "3    126\n",
       "4    109\n",
       "..   ...\n",
       "235  231\n",
       "236  226\n",
       "237  155\n",
       "238  144\n",
       "239  172\n",
       "\n",
       "[240 rows x 1 columns]"
      ]
     },
     "execution_count": 47,
     "metadata": {},
     "output_type": "execute_result"
    }
   ],
   "source": [
    "my_data"
   ]
  },
  {
   "cell_type": "code",
   "execution_count": 48,
   "metadata": {},
   "outputs": [
    {
     "data": {
      "text/plain": [
       "pandas.core.frame.DataFrame"
      ]
     },
     "execution_count": 48,
     "metadata": {},
     "output_type": "execute_result"
    }
   ],
   "source": [
    "type(my_data)"
   ]
  },
  {
   "cell_type": "code",
   "execution_count": 49,
   "metadata": {},
   "outputs": [],
   "source": [
    "my_data.to_csv(\"my_data.csv\")"
   ]
  },
  {
   "cell_type": "code",
   "execution_count": 50,
   "metadata": {},
   "outputs": [
    {
     "data": {
      "text/html": [
       "<div>\n",
       "<style scoped>\n",
       "    .dataframe tbody tr th:only-of-type {\n",
       "        vertical-align: middle;\n",
       "    }\n",
       "\n",
       "    .dataframe tbody tr th {\n",
       "        vertical-align: top;\n",
       "    }\n",
       "\n",
       "    .dataframe thead th {\n",
       "        text-align: right;\n",
       "    }\n",
       "</style>\n",
       "<table border=\"1\" class=\"dataframe\">\n",
       "  <thead>\n",
       "    <tr style=\"text-align: right;\">\n",
       "      <th></th>\n",
       "      <th>Subscribers gained</th>\n",
       "    </tr>\n",
       "  </thead>\n",
       "  <tbody>\n",
       "    <tr>\n",
       "      <th>0</th>\n",
       "      <td>48</td>\n",
       "    </tr>\n",
       "    <tr>\n",
       "      <th>1</th>\n",
       "      <td>57</td>\n",
       "    </tr>\n",
       "    <tr>\n",
       "      <th>2</th>\n",
       "      <td>40</td>\n",
       "    </tr>\n",
       "    <tr>\n",
       "      <th>3</th>\n",
       "      <td>43</td>\n",
       "    </tr>\n",
       "    <tr>\n",
       "      <th>4</th>\n",
       "      <td>44</td>\n",
       "    </tr>\n",
       "    <tr>\n",
       "      <th>...</th>\n",
       "      <td>...</td>\n",
       "    </tr>\n",
       "    <tr>\n",
       "      <th>360</th>\n",
       "      <td>231</td>\n",
       "    </tr>\n",
       "    <tr>\n",
       "      <th>361</th>\n",
       "      <td>226</td>\n",
       "    </tr>\n",
       "    <tr>\n",
       "      <th>362</th>\n",
       "      <td>155</td>\n",
       "    </tr>\n",
       "    <tr>\n",
       "      <th>363</th>\n",
       "      <td>144</td>\n",
       "    </tr>\n",
       "    <tr>\n",
       "      <th>364</th>\n",
       "      <td>172</td>\n",
       "    </tr>\n",
       "  </tbody>\n",
       "</table>\n",
       "<p>365 rows × 1 columns</p>\n",
       "</div>"
      ],
      "text/plain": [
       "     Subscribers gained\n",
       "0                    48\n",
       "1                    57\n",
       "2                    40\n",
       "3                    43\n",
       "4                    44\n",
       "..                  ...\n",
       "360                 231\n",
       "361                 226\n",
       "362                 155\n",
       "363                 144\n",
       "364                 172\n",
       "\n",
       "[365 rows x 1 columns]"
      ]
     },
     "execution_count": 50,
     "metadata": {},
     "output_type": "execute_result"
    }
   ],
   "source": [
    "data"
   ]
  },
  {
   "cell_type": "code",
   "execution_count": 51,
   "metadata": {},
   "outputs": [
    {
     "name": "stdout",
     "output_type": "stream",
     "text": [
      "48\n",
      "40\n",
      "44\n",
      "46\n",
      "40\n",
      "44\n",
      "74\n",
      "56\n",
      "42\n",
      "44\n",
      "54\n",
      "40\n",
      "40\n",
      "50\n",
      "56\n",
      "46\n",
      "88\n",
      "42\n",
      "56\n",
      "50\n",
      "50\n",
      "76\n",
      "108\n",
      "110\n",
      "56\n",
      "62\n",
      "66\n",
      "66\n",
      "82\n",
      "126\n",
      "88\n",
      "108\n",
      "128\n",
      "96\n",
      "72\n",
      "76\n",
      "104\n",
      "70\n",
      "80\n",
      "104\n",
      "136\n",
      "112\n",
      "84\n",
      "92\n",
      "80\n",
      "70\n",
      "70\n",
      "132\n",
      "98\n",
      "96\n",
      "88\n",
      "86\n",
      "92\n",
      "92\n",
      "110\n",
      "120\n",
      "72\n",
      "84\n",
      "90\n",
      "78\n",
      "86\n",
      "72\n",
      "100\n",
      "72\n",
      "90\n",
      "100\n",
      "88\n",
      "78\n",
      "96\n",
      "80\n",
      "66\n",
      "68\n",
      "90\n",
      "76\n",
      "66\n",
      "64\n",
      "136\n",
      "72\n",
      "78\n",
      "84\n",
      "74\n",
      "128\n",
      "82\n",
      "86\n",
      "100\n",
      "88\n",
      "104\n",
      "118\n",
      "114\n",
      "102\n",
      "96\n",
      "90\n",
      "114\n",
      "118\n",
      "140\n",
      "180\n",
      "306\n",
      "222\n",
      "170\n",
      "160\n",
      "114\n",
      "170\n",
      "152\n",
      "110\n",
      "102\n",
      "136\n",
      "76\n",
      "130\n",
      "146\n",
      "146\n",
      "146\n",
      "150\n",
      "114\n",
      "108\n",
      "108\n",
      "138\n",
      "124\n",
      "108\n",
      "146\n",
      "108\n",
      "98\n",
      "156\n",
      "160\n",
      "122\n",
      "192\n",
      "224\n",
      "254\n",
      "214\n",
      "236\n",
      "254\n",
      "168\n",
      "154\n",
      "152\n",
      "202\n",
      "158\n",
      "180\n",
      "184\n",
      "196\n",
      "210\n",
      "182\n",
      "216\n",
      "180\n",
      "160\n",
      "154\n",
      "138\n",
      "134\n",
      "184\n",
      "134\n",
      "132\n",
      "138\n",
      "150\n",
      "134\n",
      "160\n",
      "170\n",
      "228\n",
      "276\n",
      "290\n",
      "186\n",
      "206\n",
      "202\n",
      "176\n",
      "236\n",
      "222\n",
      "190\n",
      "190\n",
      "170\n",
      "156\n",
      "172\n",
      "174\n",
      "178\n",
      "174\n",
      "162\n",
      "152\n",
      "150\n",
      "186\n",
      "156\n",
      "230\n",
      "186\n",
      "150\n",
      "244\n",
      "158\n",
      "196\n",
      "166\n",
      "154\n",
      "396\n",
      "312\n",
      "268\n",
      "188\n",
      "176\n",
      "202\n",
      "184\n",
      "276\n",
      "258\n",
      "212\n",
      "192\n",
      "164\n",
      "192\n",
      "220\n",
      "196\n",
      "204\n",
      "156\n",
      "210\n",
      "226\n",
      "144\n",
      "172\n"
     ]
    }
   ],
   "source": [
    "for i in data['Subscribers gained']:\n",
    "    if i%2==0:\n",
    "        print(i)"
   ]
  },
  {
   "cell_type": "code",
   "execution_count": 52,
   "metadata": {},
   "outputs": [
    {
     "name": "stdout",
     "output_type": "stream",
     "text": [
      "0\n",
      "1\n",
      "2\n",
      "3\n",
      "4\n",
      "5\n",
      "6\n",
      "7\n",
      "8\n",
      "9\n",
      "10\n"
     ]
    }
   ],
   "source": [
    "#while loop condition pr\n",
    "#while condition:\n",
    "#print()\n",
    "#increment\n",
    "i = 0#initilize value\n",
    "while i<11:#condion\n",
    "    print(i)#diplay\n",
    "    i+=1#increment"
   ]
  },
  {
   "cell_type": "code",
   "execution_count": 54,
   "metadata": {},
   "outputs": [
    {
     "name": "stdout",
     "output_type": "stream",
     "text": [
      "0\n",
      "1\n",
      "2\n",
      "3\n",
      "4\n",
      "5\n",
      "6\n",
      "7\n",
      "8\n",
      "9\n",
      "10\n"
     ]
    }
   ],
   "source": [
    "i = 0#initilize value\n",
    "while i<11:#condion\n",
    "    print(i)#diplay\n",
    "    i = i+1#increment"
   ]
  },
  {
   "cell_type": "code",
   "execution_count": 62,
   "metadata": {},
   "outputs": [],
   "source": [
    "i = -1#initilize value\n",
    "while i < -11:#condion\n",
    "    print(i)#diplay\n",
    "    i = i+1#increme"
   ]
  },
  {
   "cell_type": "code",
   "execution_count": 63,
   "metadata": {},
   "outputs": [
    {
     "name": "stdout",
     "output_type": "stream",
     "text": [
      "2\n",
      "4\n",
      "6\n",
      "8\n",
      "10\n",
      "12\n",
      "14\n",
      "16\n",
      "18\n",
      "20\n"
     ]
    }
   ],
   "source": [
    "# 1. Print Multiplication Table\n",
    "number = int(input(\"Enter the number: \"))\n",
    "i = 1\n",
    "while i < 11:\n",
    "    print(number * i)\n",
    "    i += 1\n"
   ]
  },
  {
   "cell_type": "code",
   "execution_count": 64,
   "metadata": {},
   "outputs": [
    {
     "name": "stdout",
     "output_type": "stream",
     "text": [
      "12 * 1 = 12\n",
      "12 * 2 = 24\n",
      "12 * 3 = 36\n",
      "12 * 4 = 48\n",
      "12 * 5 = 60\n",
      "12 * 6 = 72\n",
      "12 * 7 = 84\n",
      "12 * 8 = 96\n",
      "12 * 9 = 108\n",
      "12 * 10 = 120\n"
     ]
    }
   ],
   "source": [
    "number = int(input(\"Enter the number: \"))\n",
    "i = 1\n",
    "while i < 11:\n",
    "    print(number, \"*\", i, \"=\", number * i)\n",
    "    i += 1"
   ]
  },
  {
   "cell_type": "code",
   "execution_count": 65,
   "metadata": {},
   "outputs": [
    {
     "name": "stdout",
     "output_type": "stream",
     "text": [
      "1\n",
      "2\n",
      "limit crossed\n"
     ]
    }
   ],
   "source": [
    "# while loop with else\n",
    "x = 1\n",
    "while x < 3:\n",
    "  print(x)\n",
    "  x += 1\n",
    "else:\n",
    "  print('limit crossed')"
   ]
  },
  {
   "cell_type": "code",
   "execution_count": 67,
   "metadata": {},
   "outputs": [
    {
     "name": "stdout",
     "output_type": "stream",
     "text": [
      "Sum of digits: 3\n"
     ]
    }
   ],
   "source": [
    "# 2. Sum of Digits\n",
    "number = int(input(\"Enter the number: \"))\n",
    "sum_digits = 0\n",
    "while number > 0:\n",
    "    digit = number % 10\n",
    "    sum_digits += digit\n",
    "    number //= 10\n",
    "print(f\"Sum of digits: {sum_digits}\")\n"
   ]
  },
  {
   "cell_type": "code",
   "execution_count": 68,
   "metadata": {},
   "outputs": [],
   "source": [
    "a = 20\n",
    "#digit = 20%10"
   ]
  },
  {
   "cell_type": "code",
   "execution_count": null,
   "metadata": {},
   "outputs": [],
   "source": []
  },
  {
   "cell_type": "code",
   "execution_count": 69,
   "metadata": {},
   "outputs": [],
   "source": [
    "digit = a%10"
   ]
  },
  {
   "cell_type": "code",
   "execution_count": 70,
   "metadata": {},
   "outputs": [
    {
     "data": {
      "text/plain": [
       "0"
      ]
     },
     "execution_count": 70,
     "metadata": {},
     "output_type": "execute_result"
    }
   ],
   "source": [
    "digit"
   ]
  },
  {
   "cell_type": "code",
   "execution_count": 71,
   "metadata": {},
   "outputs": [],
   "source": [
    "sum_digits = 0"
   ]
  },
  {
   "cell_type": "code",
   "execution_count": 72,
   "metadata": {},
   "outputs": [],
   "source": [
    "sum_digits += digit"
   ]
  },
  {
   "cell_type": "code",
   "execution_count": 73,
   "metadata": {},
   "outputs": [
    {
     "data": {
      "text/plain": [
       "0"
      ]
     },
     "execution_count": 73,
     "metadata": {},
     "output_type": "execute_result"
    }
   ],
   "source": [
    "sum_digits"
   ]
  },
  {
   "cell_type": "code",
   "execution_count": 74,
   "metadata": {},
   "outputs": [],
   "source": [
    "a //= 10"
   ]
  },
  {
   "cell_type": "code",
   "execution_count": 75,
   "metadata": {},
   "outputs": [
    {
     "data": {
      "text/plain": [
       "2"
      ]
     },
     "execution_count": 75,
     "metadata": {},
     "output_type": "execute_result"
    }
   ],
   "source": [
    "a"
   ]
  },
  {
   "cell_type": "code",
   "execution_count": 77,
   "metadata": {},
   "outputs": [
    {
     "data": {
      "text/plain": [
       "10.0"
      ]
     },
     "execution_count": 77,
     "metadata": {},
     "output_type": "execute_result"
    }
   ],
   "source": [
    "20/2\n"
   ]
  },
  {
   "cell_type": "markdown",
   "metadata": {},
   "source": [
    "example project\n",
    "----"
   ]
  },
  {
   "cell_type": "code",
   "execution_count": 6,
   "metadata": {},
   "outputs": [
    {
     "name": "stdout",
     "output_type": "stream",
     "text": [
      "Guess lower\n",
      "Guess higher\n",
      "Guess higher\n",
      "Guess higher\n",
      "Guess higher\n",
      "Guess higher\n",
      "Guess higher\n",
      "Guess higher\n",
      "Guess higher\n",
      "Guess lower\n",
      "Guess lower\n",
      "Sahi Jawab\n",
      "You took 12 attempts\n"
     ]
    }
   ],
   "source": [
    "jackpot = random.randint(1, 100)\n",
    "guess = int(input(\"Chal guess kar: \"))\n",
    "counter = 1\n",
    "while guess != jackpot:\n",
    "    if guess < jackpot:\n",
    "        print(\"Guess higher\")\n",
    "    else:\n",
    "        print(\"Guess lower\")   \n",
    "    guess = int(input(\"Chal guess kar: \"))\n",
    "    counter += 1\n",
    "print(\"Sahi Jawab\")\n",
    "print(\"You took\", counter, \"attempts\")"
   ]
  },
  {
   "cell_type": "code",
   "execution_count": 7,
   "metadata": {},
   "outputs": [
    {
     "ename": "NameError",
     "evalue": "name 'add' is not defined",
     "output_type": "error",
     "traceback": [
      "\u001b[1;31m---------------------------------------------------------------------------\u001b[0m",
      "\u001b[1;31mNameError\u001b[0m                                 Traceback (most recent call last)",
      "Cell \u001b[1;32mIn[7], line 1\u001b[0m\n\u001b[1;32m----> 1\u001b[0m add(\u001b[38;5;241m5\u001b[39m,\u001b[38;5;241m8\u001b[39m)\n",
      "\u001b[1;31mNameError\u001b[0m: name 'add' is not defined"
     ]
    }
   ],
   "source": [
    "add(5,8)"
   ]
  },
  {
   "cell_type": "code",
   "execution_count": 3,
   "metadata": {},
   "outputs": [],
   "source": [
    "import numpy as np"
   ]
  },
  {
   "cell_type": "code",
   "execution_count": 5,
   "metadata": {},
   "outputs": [],
   "source": [
    "import random"
   ]
  },
  {
   "cell_type": "code",
   "execution_count": null,
   "metadata": {},
   "outputs": [],
   "source": []
  }
 ],
 "metadata": {
  "kernelspec": {
   "display_name": "base",
   "language": "python",
   "name": "python3"
  },
  "language_info": {
   "codemirror_mode": {
    "name": "ipython",
    "version": 3
   },
   "file_extension": ".py",
   "mimetype": "text/x-python",
   "name": "python",
   "nbconvert_exporter": "python",
   "pygments_lexer": "ipython3",
   "version": "3.12.7"
  }
 },
 "nbformat": 4,
 "nbformat_minor": 2
}
